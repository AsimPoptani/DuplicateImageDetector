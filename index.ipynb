{
 "cells": [
  {
   "cell_type": "code",
   "execution_count": 1,
   "metadata": {},
   "outputs": [],
   "source": [
    "import tensorflow as tf\n",
    "import tensorflow.keras as keras \n",
    "import numpy as np\n",
    "import pandas as pd\n",
    "import  matplotlib.pyplot as pyplot\n",
    "from PIL import Image\n",
    "import random\n",
    "import os\n",
    "import glob"
   ]
  },
  {
   "cell_type": "code",
   "execution_count": 2,
   "metadata": {},
   "outputs": [
    {
     "name": "stdout",
     "output_type": "stream",
     "text": [
      "Num GPUs Available:  1\n"
     ]
    }
   ],
   "source": [
    "print(\"Num GPUs Available: \", len(tf.config.experimental.list_physical_devices('GPU')))\n",
    "os.environ['TF_FORCE_GPU_ALLOW_GROWTH'] = 'true'"
   ]
  },
  {
   "cell_type": "markdown",
   "metadata": {},
   "source": [
    "## Dataset"
   ]
  },
  {
   "cell_type": "markdown",
   "metadata": {},
   "source": [
    "### global variables"
   ]
  },
  {
   "cell_type": "code",
   "execution_count": 3,
   "metadata": {},
   "outputs": [],
   "source": [
    "image_size=(600,600)"
   ]
  },
  {
   "cell_type": "markdown",
   "metadata": {},
   "source": [
    "### Utils"
   ]
  },
  {
   "cell_type": "code",
   "execution_count": 4,
   "metadata": {},
   "outputs": [],
   "source": [
    "# Open image and process to numpy\n",
    "def open_image(image_path):\n",
    "    img=Image.open(image_path)\n",
    "    img=img.resize(image_size)\n",
    "    return np.array(img,dtype=np.float32)/255"
   ]
  },
  {
   "cell_type": "markdown",
   "metadata": {},
   "source": [
    "### Trainning dataset"
   ]
  },
  {
   "cell_type": "code",
   "execution_count": 5,
   "metadata": {},
   "outputs": [],
   "source": [
    "training_dataset_path=\"dataset/training_set/\""
   ]
  },
  {
   "cell_type": "code",
   "execution_count": 6,
   "metadata": {},
   "outputs": [],
   "source": [
    "training_cats=glob.glob(training_dataset_path+\"cats/*.jpg\",recursive=True)\n",
    "training_dogs=glob.glob(training_dataset_path+\"dogs/*.jpg\",recursive=True)"
   ]
  },
  {
   "cell_type": "markdown",
   "metadata": {},
   "source": [
    "training Generator"
   ]
  },
  {
   "cell_type": "code",
   "execution_count": 7,
   "metadata": {},
   "outputs": [],
   "source": [
    "def training_gen():\n",
    "    def training_cats_gen():\n",
    "        for training_cat in training_cats:\n",
    "            yield open_image(training_cat)\n",
    "    def training_dogs_gen():\n",
    "        for training_dog in training_dogs:\n",
    "            yield open_image(training_dog)\n",
    "    training_cats_gen=training_cats_gen()\n",
    "    training_dogs_gen=training_dogs_gen()\n",
    "    dogs=0\n",
    "    cats=0\n",
    "#     Pick one\n",
    "    for _ in range(len(training_cats)+len(training_dogs)):\n",
    "        if len(training_cats)>cats and len(training_dogs)>dogs:\n",
    "            picking=bool(random.getrandbits(1))\n",
    "            if picking:\n",
    "                dogs+=1\n",
    "                yield next(training_dogs_gen),0\n",
    "            else:\n",
    "                cats+=1\n",
    "                yield next(training_cats_gen),1\n",
    "        elif len(training_cats)>cats:\n",
    "            cats+=1\n",
    "            yield next(training_cats_gen),1\n",
    "        elif len(training_dogs)>dogs:\n",
    "            dogs+=1\n",
    "            yield next(training_dogs_gen),0"
   ]
  },
  {
   "cell_type": "code",
   "execution_count": 8,
   "metadata": {},
   "outputs": [],
   "source": [
    "training_dataset=tf.data.Dataset.from_generator(\n",
    "    training_gen,\n",
    "    output_signature=(\n",
    "        tf.TensorSpec(shape=(image_size[1],image_size[0], 3), dtype=tf.float32),\n",
    "        tf.TensorSpec(shape=(), dtype=tf.int32)\n",
    "    )\n",
    ").batch(8).prefetch(tf.data.experimental.AUTOTUNE)"
   ]
  },
  {
   "cell_type": "markdown",
   "metadata": {},
   "source": [
    "## Test set"
   ]
  },
  {
   "cell_type": "code",
   "execution_count": 9,
   "metadata": {},
   "outputs": [],
   "source": [
    "test_dataset_path=\"dataset/test_set/\""
   ]
  },
  {
   "cell_type": "code",
   "execution_count": 10,
   "metadata": {},
   "outputs": [],
   "source": [
    "test_cats=glob.glob(test_dataset_path+\"cats/*.jpg\",recursive=True)\n",
    "test_dogs=glob.glob(test_dataset_path+\"dogs/*.jpg\",recursive=True)"
   ]
  },
  {
   "cell_type": "code",
   "execution_count": 11,
   "metadata": {},
   "outputs": [],
   "source": [
    "def test_gen():\n",
    "    def test_cats_gen():\n",
    "        for test_cat in test_cats:\n",
    "            yield open_image(test_cat),1\n",
    "    def test_dogs_gen():\n",
    "        for test_dog in test_dogs:\n",
    "            yield open_image(test_dog),0\n",
    "    test_cats_gen=test_cats_gen()\n",
    "    test_dogs_gen=test_dogs_gen()\n",
    "    dogs=0\n",
    "    cats=0\n",
    "#     Pick one\n",
    "    for _ in range(len(test_cats)+len(test_dogs)):\n",
    "        if len(test_cats)>cats and len(test_dogs)>dogs:\n",
    "            picking=bool(random.getrandbits(1))\n",
    "            if picking:\n",
    "                dogs+=1\n",
    "                yield next(test_dogs_gen)\n",
    "            else:\n",
    "                cats+=1\n",
    "                yield next(test_cats_gen)\n",
    "        elif len(test_cats)>cats:\n",
    "            cats+=1\n",
    "            yield next(test_cats_gen)\n",
    "        elif len(test_dogs)>dogs:\n",
    "            dogs+=1\n",
    "            yield next(test_dogs_gen)"
   ]
  },
  {
   "cell_type": "code",
   "execution_count": 12,
   "metadata": {},
   "outputs": [],
   "source": [
    "test_dataset=tf.data.Dataset.from_generator(\n",
    "    test_gen,\n",
    "    output_signature=(\n",
    "        tf.TensorSpec(shape=(image_size[1],image_size[0], 3), dtype=tf.float32),\n",
    "        tf.TensorSpec(shape=(), dtype=tf.int32)\n",
    "    )\n",
    ").batch(8).prefetch(tf.data.experimental.AUTOTUNE)"
   ]
  },
  {
   "cell_type": "markdown",
   "metadata": {},
   "source": [
    "## Model"
   ]
  },
  {
   "cell_type": "code",
   "execution_count": 13,
   "metadata": {
    "scrolled": true
   },
   "outputs": [],
   "source": [
    "model_input=keras.layers.Input(shape=[image_size[1],image_size[0],3])\n",
    "model_block_1=keras.layers.Conv2D(64,3,padding='same')(model_input)\n",
    "model_block_1=tf.keras.layers.LeakyReLU()(model_block_1)\n",
    "model_block_1=tf.keras.layers.Dropout(.1)(model_block_1)\n",
    "model_block_1=keras.layers.MaxPool2D((3,3))(model_block_1)\n",
    "\n",
    "model_block_2=keras.layers.Conv2D(128,3,padding='same')(model_block_1)\n",
    "model_block_2=tf.keras.layers.LeakyReLU()(model_block_2)\n",
    "model_block_2=tf.keras.layers.Dropout(.1)(model_block_2)\n",
    "model_block_2=keras.layers.MaxPool2D((3,3))(model_block_2)\n",
    "\n",
    "model_block_3=keras.layers.Conv2D(256,3,padding='same')(model_block_2)\n",
    "model_block_3=tf.keras.layers.LeakyReLU()(model_block_3)\n",
    "model_block_3=tf.keras.layers.Dropout(.1)(model_block_3)\n",
    "model_block_3=keras.layers.MaxPool2D((3,3))(model_block_3)\n",
    "\n",
    "model_block_4=keras.layers.Conv2D(512,3,padding='same')(model_block_3)\n",
    "model_block_4=tf.keras.layers.LeakyReLU()(model_block_4)\n",
    "model_block_4=tf.keras.layers.Dropout(.1)(model_block_4)\n",
    "model_block_4=keras.layers.MaxPool2D((3,3))(model_block_4)\n",
    "\n",
    "model_global=keras.layers.GlobalAveragePooling2D()(model_block_4)\n",
    "\n",
    "model_fc=keras.layers.Dense(100)(model_global)\n",
    "model_fc=keras.layers.Dense(100)(model_fc)\n",
    "model_out=keras.layers.Dense(2,activation='softmax')(model_fc)\n",
    "model=tf.keras.Model(inputs=model_input,outputs=model_out)\n",
    "loss_fn = keras.losses.SparseCategoricalCrossentropy()\n",
    "model.compile(loss=loss_fn, optimizer='adam', metrics=['accuracy'])\n",
    "# model.fit(training_dataset,epochs=10)\n"
   ]
  },
  {
   "cell_type": "code",
   "execution_count": 14,
   "metadata": {},
   "outputs": [],
   "source": [
    "# model.save('model')\n",
    "model= keras.models.load_model('model')"
   ]
  },
  {
   "cell_type": "code",
   "execution_count": 15,
   "metadata": {
    "scrolled": true
   },
   "outputs": [
    {
     "name": "stdout",
     "output_type": "stream",
     "text": [
      "250/250 [==============================] - 39s 117ms/step - loss: 1.3160 - accuracy: 0.7545\n"
     ]
    },
    {
     "data": {
      "text/plain": [
       "[1.3160306215286255, 0.7544999718666077]"
      ]
     },
     "execution_count": 15,
     "metadata": {},
     "output_type": "execute_result"
    }
   ],
   "source": [
    "# model.fit(training_dataset,epochs=30)\n",
    "model.evaluate(test_dataset)"
   ]
  },
  {
   "cell_type": "code",
   "execution_count": 16,
   "metadata": {},
   "outputs": [
    {
     "name": "stdout",
     "output_type": "stream",
     "text": [
      "(1, 600, 600, 3)\n"
     ]
    },
    {
     "data": {
      "text/plain": [
       "array([[0.00709794, 0.992902  ]], dtype=float32)"
      ]
     },
     "execution_count": 16,
     "metadata": {},
     "output_type": "execute_result"
    },
    {
     "data": {
      "image/png": "[encoded data removed]",
      "text/plain": [
       "<Figure size 432x288 with 1 Axes>"
      ]
     },
     "metadata": {
      "needs_background": "light"
     },
     "output_type": "display_data"
    }
   ],
   "source": [
    "img=open_image(test_cats[78])\n",
    "pyplot.imshow(img)\n",
    "print(np.array([img]).shape)\n",
    "model.predict(np.array([img]))"
   ]
  },
  {
   "cell_type": "code",
   "execution_count": 17,
   "metadata": {},
   "outputs": [
    {
     "name": "stdout",
     "output_type": "stream",
     "text": [
      "1000/1000 [==============================] - 114s 114ms/step - loss: 0.7497 - accuracy: 0.8089\n"
     ]
    },
    {
     "data": {
      "text/plain": [
       "[0.7496526837348938, 0.8088750243186951]"
      ]
     },
     "execution_count": 17,
     "metadata": {},
     "output_type": "execute_result"
    }
   ],
   "source": [
    "model.evaluate(training_dataset)"
   ]
  },
  {
   "cell_type": "code",
   "execution_count": 18,
   "metadata": {
    "scrolled": true
   },
   "outputs": [
    {
     "name": "stdout",
     "output_type": "stream",
     "text": [
      "250/250 [==============================] - 29s 114ms/step - loss: 1.3160 - accuracy: 0.7545\n"
     ]
    },
    {
     "data": {
      "text/plain": [
       "[1.3160312175750732, 0.7544999718666077]"
      ]
     },
     "execution_count": 18,
     "metadata": {},
     "output_type": "execute_result"
    }
   ],
   "source": [
    "model.evaluate(test_dataset)"
   ]
  },
  {
   "cell_type": "code",
   "execution_count": 19,
   "metadata": {},
   "outputs": [
    {
     "name": "stdout",
     "output_type": "stream",
     "text": [
      "Model: \"model\"\n",
      "_________________________________________________________________\n",
      "Layer (type)                 Output Shape              Param #   \n",
      "=================================================================\n",
      "input_1 (InputLayer)         [(None, 600, 600, 3)]     0         \n",
      "_________________________________________________________________\n",
      "conv2d (Conv2D)              (None, 600, 600, 64)      1792      \n",
      "_________________________________________________________________\n",
      "leaky_re_lu (LeakyReLU)      (None, 600, 600, 64)      0         \n",
      "_________________________________________________________________\n",
      "dropout (Dropout)            (None, 600, 600, 64)      0         \n",
      "_________________________________________________________________\n",
      "max_pooling2d (MaxPooling2D) (None, 200, 200, 64)      0         \n",
      "_________________________________________________________________\n",
      "conv2d_1 (Conv2D)            (None, 200, 200, 128)     73856     \n",
      "_________________________________________________________________\n",
      "leaky_re_lu_1 (LeakyReLU)    (None, 200, 200, 128)     0         \n",
      "_________________________________________________________________\n",
      "dropout_1 (Dropout)          (None, 200, 200, 128)     0         \n",
      "_________________________________________________________________\n",
      "max_pooling2d_1 (MaxPooling2 (None, 66, 66, 128)       0         \n",
      "_________________________________________________________________\n",
      "conv2d_2 (Conv2D)            (None, 66, 66, 256)       295168    \n",
      "_________________________________________________________________\n",
      "leaky_re_lu_2 (LeakyReLU)    (None, 66, 66, 256)       0         \n",
      "_________________________________________________________________\n",
      "dropout_2 (Dropout)          (None, 66, 66, 256)       0         \n",
      "_________________________________________________________________\n",
      "max_pooling2d_2 (MaxPooling2 (None, 22, 22, 256)       0         \n",
      "_________________________________________________________________\n",
      "conv2d_3 (Conv2D)            (None, 22, 22, 512)       1180160   \n",
      "_________________________________________________________________\n",
      "leaky_re_lu_3 (LeakyReLU)    (None, 22, 22, 512)       0         \n",
      "_________________________________________________________________\n",
      "dropout_3 (Dropout)          (None, 22, 22, 512)       0         \n",
      "_________________________________________________________________\n",
      "max_pooling2d_3 (MaxPooling2 (None, 7, 7, 512)         0         \n",
      "_________________________________________________________________\n",
      "global_average_pooling2d (Gl (None, 512)               0         \n",
      "_________________________________________________________________\n",
      "dense (Dense)                (None, 100)               51300     \n",
      "_________________________________________________________________\n",
      "dense_1 (Dense)              (None, 100)               10100     \n",
      "_________________________________________________________________\n",
      "dense_2 (Dense)              (None, 2)                 202       \n",
      "=================================================================\n",
      "Total params: 1,612,578\n",
      "Trainable params: 1,612,578\n",
      "Non-trainable params: 0\n",
      "_________________________________________________________________\n"
     ]
    }
   ],
   "source": [
    "model.summary()"
   ]
  },
  {
   "cell_type": "code",
   "execution_count": 20,
   "metadata": {},
   "outputs": [
    {
     "name": "stdout",
     "output_type": "stream",
     "text": [
      "Model: \"model_1\"\n",
      "_________________________________________________________________\n",
      "Layer (type)                 Output Shape              Param #   \n",
      "=================================================================\n",
      "input_2 (InputLayer)         [(None, 600, 600, 3)]     0         \n",
      "_________________________________________________________________\n",
      "conv2d_4 (Conv2D)            (None, 600, 600, 64)      4864      \n",
      "_________________________________________________________________\n",
      "leaky_re_lu_4 (LeakyReLU)    (None, 600, 600, 64)      0         \n",
      "_________________________________________________________________\n",
      "dropout_4 (Dropout)          (None, 600, 600, 64)      0         \n",
      "_________________________________________________________________\n",
      "max_pooling2d_4 (MaxPooling2 (None, 200, 200, 64)      0         \n",
      "_________________________________________________________________\n",
      "conv2d_5 (Conv2D)            (None, 200, 200, 128)     204928    \n",
      "_________________________________________________________________\n",
      "leaky_re_lu_5 (LeakyReLU)    (None, 200, 200, 128)     0         \n",
      "_________________________________________________________________\n",
      "dropout_5 (Dropout)          (None, 200, 200, 128)     0         \n",
      "_________________________________________________________________\n",
      "max_pooling2d_5 (MaxPooling2 (None, 66, 66, 128)       0         \n",
      "_________________________________________________________________\n",
      "conv2d_6 (Conv2D)            (None, 66, 66, 256)       819456    \n",
      "_________________________________________________________________\n",
      "leaky_re_lu_6 (LeakyReLU)    (None, 66, 66, 256)       0         \n",
      "_________________________________________________________________\n",
      "dropout_6 (Dropout)          (None, 66, 66, 256)       0         \n",
      "_________________________________________________________________\n",
      "max_pooling2d_6 (MaxPooling2 (None, 22, 22, 256)       0         \n",
      "_________________________________________________________________\n",
      "conv2d_7 (Conv2D)            (None, 22, 22, 512)       3277312   \n",
      "_________________________________________________________________\n",
      "leaky_re_lu_7 (LeakyReLU)    (None, 22, 22, 512)       0         \n",
      "_________________________________________________________________\n",
      "dropout_7 (Dropout)          (None, 22, 22, 512)       0         \n",
      "_________________________________________________________________\n",
      "max_pooling2d_7 (MaxPooling2 (None, 7, 7, 512)         0         \n",
      "_________________________________________________________________\n",
      "global_average_pooling2d_1 ( (None, 512)               0         \n",
      "_________________________________________________________________\n",
      "dense_3 (Dense)              (None, 100)               51300     \n",
      "_________________________________________________________________\n",
      "dense_4 (Dense)              (None, 100)               10100     \n",
      "_________________________________________________________________\n",
      "dense_5 (Dense)              (None, 2)                 202       \n",
      "=================================================================\n",
      "Total params: 4,368,162\n",
      "Trainable params: 4,368,162\n",
      "Non-trainable params: 0\n",
      "_________________________________________________________________\n"
     ]
    }
   ],
   "source": [
    "model2_input=keras.layers.Input(shape=[image_size[1],image_size[0],3])\n",
    "model2_block_1=keras.layers.Conv2D(64,5,padding='same')(model2_input)\n",
    "model2_block_1=tf.keras.layers.LeakyReLU()(model2_block_1)\n",
    "model2_block_1=tf.keras.layers.Dropout(.1)(model2_block_1)\n",
    "model2_block_1=keras.layers.MaxPool2D((3,3))(model2_block_1)\n",
    "\n",
    "model2_block_2=keras.layers.Conv2D(128,5,padding='same')(model2_block_1)\n",
    "model2_block_2=tf.keras.layers.LeakyReLU()(model2_block_2)\n",
    "model2_block_2=tf.keras.layers.Dropout(.1)(model2_block_2)\n",
    "model2_block_2=keras.layers.MaxPool2D((3,3))(model2_block_2)\n",
    "\n",
    "model2_block_3=keras.layers.Conv2D(256,5,padding='same')(model2_block_2)\n",
    "model2_block_3=tf.keras.layers.LeakyReLU()(model2_block_3)\n",
    "model2_block_3=tf.keras.layers.Dropout(.1)(model2_block_3)\n",
    "model2_block_3=keras.layers.MaxPool2D((3,3))(model2_block_3)\n",
    "\n",
    "model2_block_4=keras.layers.Conv2D(512,5,padding='same')(model2_block_3)\n",
    "model2_block_4=tf.keras.layers.LeakyReLU()(model2_block_4)\n",
    "model2_block_4=tf.keras.layers.Dropout(.1)(model2_block_4)\n",
    "model2_block_4=keras.layers.MaxPool2D((3,3))(model2_block_4)\n",
    "\n",
    "model2_global=keras.layers.GlobalAveragePooling2D()(model2_block_4)\n",
    "\n",
    "model2_fc=keras.layers.Dense(100)(model2_global)\n",
    "\n",
    "model2_fc=keras.layers.Dense(100)(model2_fc)\n",
    "model2_out=keras.layers.Dense(2,activation='softmax')(model2_fc)\n",
    "model2=tf.keras.Model(inputs=model2_input,outputs=model2_out)\n",
    "loss_fn = keras.losses.SparseCategoricalCrossentropy()\n",
    "model2.compile(loss=loss_fn, optimizer='adam', metrics=['accuracy'])\n",
    "model2.summary()"
   ]
  },
  {
   "cell_type": "code",
   "execution_count": 21,
   "metadata": {},
   "outputs": [],
   "source": [
    "# model2.fit(training_dataset,epochs=40)"
   ]
  },
  {
   "cell_type": "code",
   "execution_count": 22,
   "metadata": {},
   "outputs": [],
   "source": [
    "# model2.fit(training_dataset,epochs=40)"
   ]
  },
  {
   "cell_type": "code",
   "execution_count": 23,
   "metadata": {},
   "outputs": [],
   "source": [
    "# model2.fit(training_dataset,epochs=100,validation_data=test_dataset)"
   ]
  },
  {
   "cell_type": "code",
   "execution_count": 24,
   "metadata": {},
   "outputs": [],
   "source": [
    "model2=keras.models.load_model('model2')"
   ]
  },
  {
   "cell_type": "code",
   "execution_count": 25,
   "metadata": {},
   "outputs": [
    {
     "name": "stdout",
     "output_type": "stream",
     "text": [
      "1000/1000 [==============================] - 123s 116ms/step - loss: 10.4150 - accuracy: 0.5116\n"
     ]
    },
    {
     "data": {
      "text/plain": [
       "[10.414998054504395, 0.5116249918937683]"
      ]
     },
     "execution_count": 25,
     "metadata": {},
     "output_type": "execute_result"
    }
   ],
   "source": [
    "model2.evaluate(training_dataset)"
   ]
  },
  {
   "cell_type": "code",
   "execution_count": 26,
   "metadata": {},
   "outputs": [
    {
     "name": "stdout",
     "output_type": "stream",
     "text": [
      "250/250 [==============================] - 29s 116ms/step - loss: 11.0191 - accuracy: 0.5090\n"
     ]
    },
    {
     "data": {
      "text/plain": [
       "[11.019081115722656, 0.5090000033378601]"
      ]
     },
     "execution_count": 26,
     "metadata": {},
     "output_type": "execute_result"
    }
   ],
   "source": [
    "model2.evaluate(test_dataset)"
   ]
  },
  {
   "cell_type": "code",
   "execution_count": 27,
   "metadata": {},
   "outputs": [],
   "source": [
    "model3_input=keras.layers.Input(shape=[image_size[1],image_size[0],3])\n",
    "model3_block_1=keras.layers.Conv2D(64,3,padding='same')(model3_input)\n",
    "model3_block_1=tf.keras.layers.LeakyReLU()(model3_block_1)\n",
    "# model3_block_1=tf.keras.layers.Dropout(.1)(model3_block_1)\n",
    "model3_block_1=keras.layers.MaxPool2D((3,3))(model3_block_1)\n",
    "\n",
    "model3_block_2=keras.layers.Conv2D(128,3,padding='same')(model3_block_1)\n",
    "model3_block_2=tf.keras.layers.LeakyReLU()(model3_block_2)\n",
    "# model3_block_2=tf.keras.layers.Dropout(.1)(model3_block_2)\n",
    "model3_block_2=keras.layers.MaxPool2D((3,3))(model3_block_2)\n",
    "\n",
    "model3_block_3=keras.layers.Conv2D(256,3,padding='same')(model3_block_2)\n",
    "model3_block_3=tf.keras.layers.LeakyReLU()(model3_block_3)\n",
    "# model3_block_3=tf.keras.layers.Dropout(.1)(model3_block_3)\n",
    "model3_block_3=keras.layers.MaxPool2D((3,3))(model3_block_3)\n",
    "\n",
    "model3_block_4=keras.layers.Conv2D(512,3,padding='same')(model3_block_3)\n",
    "model3_block_4=tf.keras.layers.LeakyReLU()(model3_block_4)\n",
    "# model3_block_4=tf.keras.layers.Dropout(.1)(model3_block_4)\n",
    "model3_block_4=keras.layers.MaxPool2D((3,3))(model3_block_4)\n",
    "\n",
    "model3_global=keras.layers.GlobalAveragePooling2D()(model3_block_4)\n",
    "\n",
    "model3_fc=keras.layers.Dense(100)(model3_global)\n",
    "model3_fc=keras.layers.Dense(100)(model3_fc)\n",
    "model3_out=keras.layers.Dense(2,activation='softmax')(model3_fc)\n",
    "model3=tf.keras.Model(inputs=model3_input,outputs=model3_out)\n",
    "loss_fn = keras.losses.SparseCategoricalCrossentropy()\n",
    "model3.compile(loss=loss_fn, optimizer='adam', metrics=['accuracy'])\n",
    "# model.fit(training_dataset,epochs=10)\n"
   ]
  },
  {
   "cell_type": "code",
   "execution_count": 28,
   "metadata": {},
   "outputs": [
    {
     "name": "stdout",
     "output_type": "stream",
     "text": [
      "Epoch 1/100\n",
      "1000/1000 [==============================] - 124s 112ms/step - loss: 0.7112 - accuracy: 0.5004\n",
      "Epoch 2/100\n",
      "1000/1000 [==============================] - 113s 113ms/step - loss: 1.3412 - accuracy: 0.5379\n",
      "Epoch 3/100\n",
      "1000/1000 [==============================] - 113s 113ms/step - loss: 0.6811 - accuracy: 0.5504\n",
      "Epoch 4/100\n",
      "1000/1000 [==============================] - 113s 113ms/step - loss: 0.6877 - accuracy: 0.5374\n",
      "Epoch 5/100\n",
      "1000/1000 [==============================] - 112s 112ms/step - loss: 0.6898 - accuracy: 0.5300\n",
      "Epoch 6/100\n",
      "1000/1000 [==============================] - 113s 113ms/step - loss: 0.7077 - accuracy: 0.5283\n",
      "Epoch 7/100\n",
      "1000/1000 [==============================] - 113s 113ms/step - loss: 0.7178 - accuracy: 0.5434\n",
      "Epoch 8/100\n",
      "1000/1000 [==============================] - 112s 112ms/step - loss: 0.7979 - accuracy: 0.5447\n",
      "Epoch 9/100\n",
      "1000/1000 [==============================] - 113s 113ms/step - loss: 1.2047 - accuracy: 0.5422\n",
      "Epoch 10/100\n",
      "1000/1000 [==============================] - 113s 113ms/step - loss: 0.6783 - accuracy: 0.5548\n",
      "Epoch 11/100\n",
      "1000/1000 [==============================] - 112s 112ms/step - loss: 0.6794 - accuracy: 0.5612\n",
      "Epoch 12/100\n",
      "1000/1000 [==============================] - 113s 113ms/step - loss: 0.7092 - accuracy: 0.5803\n",
      "Epoch 13/100\n",
      "1000/1000 [==============================] - 113s 113ms/step - loss: 0.7232 - accuracy: 0.6027\n",
      "Epoch 14/100\n",
      "1000/1000 [==============================] - 113s 113ms/step - loss: 0.8600 - accuracy: 0.5974\n",
      "Epoch 15/100\n",
      "1000/1000 [==============================] - 113s 113ms/step - loss: 0.6350 - accuracy: 0.6412\n",
      "Epoch 16/100\n",
      "1000/1000 [==============================] - 113s 113ms/step - loss: 0.6752 - accuracy: 0.6413\n",
      "Epoch 17/100\n",
      "1000/1000 [==============================] - 113s 113ms/step - loss: 0.6292 - accuracy: 0.6673\n",
      "Epoch 18/100\n",
      "1000/1000 [==============================] - 112s 112ms/step - loss: 0.6070 - accuracy: 0.6744\n",
      "Epoch 19/100\n",
      "1000/1000 [==============================] - 113s 113ms/step - loss: 0.5580 - accuracy: 0.7286\n",
      "Epoch 20/100\n",
      "1000/1000 [==============================] - 113s 113ms/step - loss: 0.6550 - accuracy: 0.7111\n",
      "Epoch 21/100\n",
      "1000/1000 [==============================] - 113s 113ms/step - loss: 0.5278 - accuracy: 0.7477\n",
      "Epoch 22/100\n",
      "1000/1000 [==============================] - 114s 114ms/step - loss: 0.4718 - accuracy: 0.7868\n",
      "Epoch 23/100\n",
      "1000/1000 [==============================] - 113s 113ms/step - loss: 0.4715 - accuracy: 0.7859\n",
      "Epoch 24/100\n",
      "1000/1000 [==============================] - 113s 113ms/step - loss: 0.4223 - accuracy: 0.8130\n",
      "Epoch 25/100\n",
      "1000/1000 [==============================] - 113s 113ms/step - loss: 0.6163 - accuracy: 0.7984\n",
      "Epoch 26/100\n",
      "1000/1000 [==============================] - 112s 112ms/step - loss: 0.3582 - accuracy: 0.8565\n",
      "Epoch 27/100\n",
      "1000/1000 [==============================] - 113s 113ms/step - loss: 0.2995 - accuracy: 0.8684\n",
      "Epoch 28/100\n",
      "1000/1000 [==============================] - 113s 113ms/step - loss: 0.2998 - accuracy: 0.8847\n",
      "Epoch 29/100\n",
      "1000/1000 [==============================] - 113s 113ms/step - loss: 0.2336 - accuracy: 0.9066\n",
      "Epoch 30/100\n",
      "1000/1000 [==============================] - 113s 113ms/step - loss: 0.2054 - accuracy: 0.9120\n",
      "Epoch 31/100\n",
      "1000/1000 [==============================] - 113s 113ms/step - loss: 0.2050 - accuracy: 0.9191\n",
      "Epoch 32/100\n",
      "1000/1000 [==============================] - 113s 113ms/step - loss: 0.1656 - accuracy: 0.9378\n",
      "Epoch 33/100\n",
      "1000/1000 [==============================] - 112s 112ms/step - loss: 0.1508 - accuracy: 0.9468\n",
      "Epoch 34/100\n",
      "1000/1000 [==============================] - 113s 113ms/step - loss: 0.1569 - accuracy: 0.9394\n",
      "Epoch 35/100\n",
      "1000/1000 [==============================] - 113s 113ms/step - loss: 0.1263 - accuracy: 0.9516\n",
      "Epoch 36/100\n",
      "1000/1000 [==============================] - 113s 113ms/step - loss: 0.4461 - accuracy: 0.9043\n",
      "Epoch 37/100\n",
      "1000/1000 [==============================] - 114s 114ms/step - loss: 0.0871 - accuracy: 0.9684\n",
      "Epoch 38/100\n",
      "1000/1000 [==============================] - 114s 114ms/step - loss: 0.0965 - accuracy: 0.9662\n",
      "Epoch 39/100\n",
      "1000/1000 [==============================] - 114s 114ms/step - loss: 0.0741 - accuracy: 0.9731\n",
      "Epoch 40/100\n",
      "1000/1000 [==============================] - 113s 113ms/step - loss: 0.2515 - accuracy: 0.9307\n",
      "Epoch 41/100\n",
      "1000/1000 [==============================] - 113s 113ms/step - loss: 0.0513 - accuracy: 0.9839\n",
      "Epoch 42/100\n",
      "1000/1000 [==============================] - 113s 113ms/step - loss: 0.1251 - accuracy: 0.9593\n",
      "Epoch 43/100\n",
      "1000/1000 [==============================] - 114s 114ms/step - loss: 0.0857 - accuracy: 0.9695\n",
      "Epoch 44/100\n",
      "1000/1000 [==============================] - 113s 113ms/step - loss: 0.0582 - accuracy: 0.9786\n",
      "Epoch 45/100\n",
      "  14/1000 [..............................] - ETA: 1:53 - loss: 0.0230 - accuracy: 0.9914"
     ]
    },
    {
     "ename": "KeyboardInterrupt",
     "evalue": "",
     "output_type": "error",
     "traceback": [
      "\u001b[0;31m---------------------------------------------------------------------------\u001b[0m",
      "\u001b[0;31mKeyboardInterrupt\u001b[0m                         Traceback (most recent call last)",
      "\u001b[0;32m<ipython-input-28-03b73fae1b6b>\u001b[0m in \u001b[0;36m<module>\u001b[0;34m\u001b[0m\n\u001b[0;32m----> 1\u001b[0;31m \u001b[0mmodel3\u001b[0m\u001b[0;34m.\u001b[0m\u001b[0mfit\u001b[0m\u001b[0;34m(\u001b[0m\u001b[0mtraining_dataset\u001b[0m\u001b[0;34m,\u001b[0m\u001b[0mepochs\u001b[0m\u001b[0;34m=\u001b[0m\u001b[0;36m100\u001b[0m\u001b[0;34m)\u001b[0m\u001b[0;34m\u001b[0m\u001b[0;34m\u001b[0m\u001b[0m\n\u001b[0m",
      "\u001b[0;32m~/work/DuplicateImageDetector/venv/lib/python3.6/site-packages/tensorflow/python/keras/engine/training.py\u001b[0m in \u001b[0;36mfit\u001b[0;34m(self, x, y, batch_size, epochs, verbose, callbacks, validation_split, validation_data, shuffle, class_weight, sample_weight, initial_epoch, steps_per_epoch, validation_steps, validation_batch_size, validation_freq, max_queue_size, workers, use_multiprocessing)\u001b[0m\n\u001b[1;32m   1098\u001b[0m                 _r=1):\n\u001b[1;32m   1099\u001b[0m               \u001b[0mcallbacks\u001b[0m\u001b[0;34m.\u001b[0m\u001b[0mon_train_batch_begin\u001b[0m\u001b[0;34m(\u001b[0m\u001b[0mstep\u001b[0m\u001b[0;34m)\u001b[0m\u001b[0;34m\u001b[0m\u001b[0;34m\u001b[0m\u001b[0m\n\u001b[0;32m-> 1100\u001b[0;31m               \u001b[0mtmp_logs\u001b[0m \u001b[0;34m=\u001b[0m \u001b[0mself\u001b[0m\u001b[0;34m.\u001b[0m\u001b[0mtrain_function\u001b[0m\u001b[0;34m(\u001b[0m\u001b[0miterator\u001b[0m\u001b[0;34m)\u001b[0m\u001b[0;34m\u001b[0m\u001b[0;34m\u001b[0m\u001b[0m\n\u001b[0m\u001b[1;32m   1101\u001b[0m               \u001b[0;32mif\u001b[0m \u001b[0mdata_handler\u001b[0m\u001b[0;34m.\u001b[0m\u001b[0mshould_sync\u001b[0m\u001b[0;34m:\u001b[0m\u001b[0;34m\u001b[0m\u001b[0;34m\u001b[0m\u001b[0m\n\u001b[1;32m   1102\u001b[0m                 \u001b[0mcontext\u001b[0m\u001b[0;34m.\u001b[0m\u001b[0masync_wait\u001b[0m\u001b[0;34m(\u001b[0m\u001b[0;34m)\u001b[0m\u001b[0;34m\u001b[0m\u001b[0;34m\u001b[0m\u001b[0m\n",
      "\u001b[0;32m~/work/DuplicateImageDetector/venv/lib/python3.6/site-packages/tensorflow/python/eager/def_function.py\u001b[0m in \u001b[0;36m__call__\u001b[0;34m(self, *args, **kwds)\u001b[0m\n\u001b[1;32m    826\u001b[0m     \u001b[0mtracing_count\u001b[0m \u001b[0;34m=\u001b[0m \u001b[0mself\u001b[0m\u001b[0;34m.\u001b[0m\u001b[0mexperimental_get_tracing_count\u001b[0m\u001b[0;34m(\u001b[0m\u001b[0;34m)\u001b[0m\u001b[0;34m\u001b[0m\u001b[0;34m\u001b[0m\u001b[0m\n\u001b[1;32m    827\u001b[0m     \u001b[0;32mwith\u001b[0m \u001b[0mtrace\u001b[0m\u001b[0;34m.\u001b[0m\u001b[0mTrace\u001b[0m\u001b[0;34m(\u001b[0m\u001b[0mself\u001b[0m\u001b[0;34m.\u001b[0m\u001b[0m_name\u001b[0m\u001b[0;34m)\u001b[0m \u001b[0;32mas\u001b[0m \u001b[0mtm\u001b[0m\u001b[0;34m:\u001b[0m\u001b[0;34m\u001b[0m\u001b[0;34m\u001b[0m\u001b[0m\n\u001b[0;32m--> 828\u001b[0;31m       \u001b[0mresult\u001b[0m \u001b[0;34m=\u001b[0m \u001b[0mself\u001b[0m\u001b[0;34m.\u001b[0m\u001b[0m_call\u001b[0m\u001b[0;34m(\u001b[0m\u001b[0;34m*\u001b[0m\u001b[0margs\u001b[0m\u001b[0;34m,\u001b[0m \u001b[0;34m**\u001b[0m\u001b[0mkwds\u001b[0m\u001b[0;34m)\u001b[0m\u001b[0;34m\u001b[0m\u001b[0;34m\u001b[0m\u001b[0m\n\u001b[0m\u001b[1;32m    829\u001b[0m       \u001b[0mcompiler\u001b[0m \u001b[0;34m=\u001b[0m \u001b[0;34m\"xla\"\u001b[0m \u001b[0;32mif\u001b[0m \u001b[0mself\u001b[0m\u001b[0;34m.\u001b[0m\u001b[0m_experimental_compile\u001b[0m \u001b[0;32melse\u001b[0m \u001b[0;34m\"nonXla\"\u001b[0m\u001b[0;34m\u001b[0m\u001b[0;34m\u001b[0m\u001b[0m\n\u001b[1;32m    830\u001b[0m       \u001b[0mnew_tracing_count\u001b[0m \u001b[0;34m=\u001b[0m \u001b[0mself\u001b[0m\u001b[0;34m.\u001b[0m\u001b[0mexperimental_get_tracing_count\u001b[0m\u001b[0;34m(\u001b[0m\u001b[0;34m)\u001b[0m\u001b[0;34m\u001b[0m\u001b[0;34m\u001b[0m\u001b[0m\n",
      "\u001b[0;32m~/work/DuplicateImageDetector/venv/lib/python3.6/site-packages/tensorflow/python/eager/def_function.py\u001b[0m in \u001b[0;36m_call\u001b[0;34m(self, *args, **kwds)\u001b[0m\n\u001b[1;32m    853\u001b[0m       \u001b[0;31m# In this case we have created variables on the first call, so we run the\u001b[0m\u001b[0;34m\u001b[0m\u001b[0;34m\u001b[0m\u001b[0;34m\u001b[0m\u001b[0m\n\u001b[1;32m    854\u001b[0m       \u001b[0;31m# defunned version which is guaranteed to never create variables.\u001b[0m\u001b[0;34m\u001b[0m\u001b[0;34m\u001b[0m\u001b[0;34m\u001b[0m\u001b[0m\n\u001b[0;32m--> 855\u001b[0;31m       \u001b[0;32mreturn\u001b[0m \u001b[0mself\u001b[0m\u001b[0;34m.\u001b[0m\u001b[0m_stateless_fn\u001b[0m\u001b[0;34m(\u001b[0m\u001b[0;34m*\u001b[0m\u001b[0margs\u001b[0m\u001b[0;34m,\u001b[0m \u001b[0;34m**\u001b[0m\u001b[0mkwds\u001b[0m\u001b[0;34m)\u001b[0m  \u001b[0;31m# pylint: disable=not-callable\u001b[0m\u001b[0;34m\u001b[0m\u001b[0;34m\u001b[0m\u001b[0m\n\u001b[0m\u001b[1;32m    856\u001b[0m     \u001b[0;32melif\u001b[0m \u001b[0mself\u001b[0m\u001b[0;34m.\u001b[0m\u001b[0m_stateful_fn\u001b[0m \u001b[0;32mis\u001b[0m \u001b[0;32mnot\u001b[0m \u001b[0;32mNone\u001b[0m\u001b[0;34m:\u001b[0m\u001b[0;34m\u001b[0m\u001b[0;34m\u001b[0m\u001b[0m\n\u001b[1;32m    857\u001b[0m       \u001b[0;31m# Release the lock early so that multiple threads can perform the call\u001b[0m\u001b[0;34m\u001b[0m\u001b[0;34m\u001b[0m\u001b[0;34m\u001b[0m\u001b[0m\n",
      "\u001b[0;32m~/work/DuplicateImageDetector/venv/lib/python3.6/site-packages/tensorflow/python/eager/function.py\u001b[0m in \u001b[0;36m__call__\u001b[0;34m(self, *args, **kwargs)\u001b[0m\n\u001b[1;32m   2941\u001b[0m        filtered_flat_args) = self._maybe_define_function(args, kwargs)\n\u001b[1;32m   2942\u001b[0m     return graph_function._call_flat(\n\u001b[0;32m-> 2943\u001b[0;31m         filtered_flat_args, captured_inputs=graph_function.captured_inputs)  # pylint: disable=protected-access\n\u001b[0m\u001b[1;32m   2944\u001b[0m \u001b[0;34m\u001b[0m\u001b[0m\n\u001b[1;32m   2945\u001b[0m   \u001b[0;34m@\u001b[0m\u001b[0mproperty\u001b[0m\u001b[0;34m\u001b[0m\u001b[0;34m\u001b[0m\u001b[0m\n",
      "\u001b[0;32m~/work/DuplicateImageDetector/venv/lib/python3.6/site-packages/tensorflow/python/eager/function.py\u001b[0m in \u001b[0;36m_call_flat\u001b[0;34m(self, args, captured_inputs, cancellation_manager)\u001b[0m\n\u001b[1;32m   1917\u001b[0m       \u001b[0;31m# No tape is watching; skip to running the function.\u001b[0m\u001b[0;34m\u001b[0m\u001b[0;34m\u001b[0m\u001b[0;34m\u001b[0m\u001b[0m\n\u001b[1;32m   1918\u001b[0m       return self._build_call_outputs(self._inference_function.call(\n\u001b[0;32m-> 1919\u001b[0;31m           ctx, args, cancellation_manager=cancellation_manager))\n\u001b[0m\u001b[1;32m   1920\u001b[0m     forward_backward = self._select_forward_and_backward_functions(\n\u001b[1;32m   1921\u001b[0m         \u001b[0margs\u001b[0m\u001b[0;34m,\u001b[0m\u001b[0;34m\u001b[0m\u001b[0;34m\u001b[0m\u001b[0m\n",
      "\u001b[0;32m~/work/DuplicateImageDetector/venv/lib/python3.6/site-packages/tensorflow/python/eager/function.py\u001b[0m in \u001b[0;36mcall\u001b[0;34m(self, ctx, args, cancellation_manager)\u001b[0m\n\u001b[1;32m    558\u001b[0m               \u001b[0minputs\u001b[0m\u001b[0;34m=\u001b[0m\u001b[0margs\u001b[0m\u001b[0;34m,\u001b[0m\u001b[0;34m\u001b[0m\u001b[0;34m\u001b[0m\u001b[0m\n\u001b[1;32m    559\u001b[0m               \u001b[0mattrs\u001b[0m\u001b[0;34m=\u001b[0m\u001b[0mattrs\u001b[0m\u001b[0;34m,\u001b[0m\u001b[0;34m\u001b[0m\u001b[0;34m\u001b[0m\u001b[0m\n\u001b[0;32m--> 560\u001b[0;31m               ctx=ctx)\n\u001b[0m\u001b[1;32m    561\u001b[0m         \u001b[0;32melse\u001b[0m\u001b[0;34m:\u001b[0m\u001b[0;34m\u001b[0m\u001b[0;34m\u001b[0m\u001b[0m\n\u001b[1;32m    562\u001b[0m           outputs = execute.execute_with_cancellation(\n",
      "\u001b[0;32m~/work/DuplicateImageDetector/venv/lib/python3.6/site-packages/tensorflow/python/eager/execute.py\u001b[0m in \u001b[0;36mquick_execute\u001b[0;34m(op_name, num_outputs, inputs, attrs, ctx, name)\u001b[0m\n\u001b[1;32m     58\u001b[0m     \u001b[0mctx\u001b[0m\u001b[0;34m.\u001b[0m\u001b[0mensure_initialized\u001b[0m\u001b[0;34m(\u001b[0m\u001b[0;34m)\u001b[0m\u001b[0;34m\u001b[0m\u001b[0;34m\u001b[0m\u001b[0m\n\u001b[1;32m     59\u001b[0m     tensors = pywrap_tfe.TFE_Py_Execute(ctx._handle, device_name, op_name,\n\u001b[0;32m---> 60\u001b[0;31m                                         inputs, attrs, num_outputs)\n\u001b[0m\u001b[1;32m     61\u001b[0m   \u001b[0;32mexcept\u001b[0m \u001b[0mcore\u001b[0m\u001b[0;34m.\u001b[0m\u001b[0m_NotOkStatusException\u001b[0m \u001b[0;32mas\u001b[0m \u001b[0me\u001b[0m\u001b[0;34m:\u001b[0m\u001b[0;34m\u001b[0m\u001b[0;34m\u001b[0m\u001b[0m\n\u001b[1;32m     62\u001b[0m     \u001b[0;32mif\u001b[0m \u001b[0mname\u001b[0m \u001b[0;32mis\u001b[0m \u001b[0;32mnot\u001b[0m \u001b[0;32mNone\u001b[0m\u001b[0;34m:\u001b[0m\u001b[0;34m\u001b[0m\u001b[0;34m\u001b[0m\u001b[0m\n",
      "\u001b[0;31mKeyboardInterrupt\u001b[0m: "
     ]
    }
   ],
   "source": [
    "model3.fit(training_dataset,epochs=100)"
   ]
  },
  {
   "cell_type": "code",
   "execution_count": 31,
   "metadata": {},
   "outputs": [
    {
     "name": "stdout",
     "output_type": "stream",
     "text": [
      "INFO:tensorflow:Assets written to: model3/assets\n"
     ]
    }
   ],
   "source": [
    "model3.save('model3')"
   ]
  },
  {
   "cell_type": "code",
   "execution_count": 29,
   "metadata": {},
   "outputs": [
    {
     "name": "stdout",
     "output_type": "stream",
     "text": [
      "250/250 [==============================] - 29s 117ms/step - loss: 0.8140 - accuracy: 0.8770\n"
     ]
    },
    {
     "data": {
      "text/plain": [
       "[0.8139869570732117, 0.8769999742507935]"
      ]
     },
     "execution_count": 29,
     "metadata": {},
     "output_type": "execute_result"
    }
   ],
   "source": [
    "model3.evaluate(test_dataset)"
   ]
  },
  {
   "cell_type": "code",
   "execution_count": 30,
   "metadata": {},
   "outputs": [
    {
     "name": "stdout",
     "output_type": "stream",
     "text": [
      "1000/1000 [==============================] - 116s 116ms/step - loss: 0.0223 - accuracy: 0.9916\n"
     ]
    },
    {
     "data": {
      "text/plain": [
       "[0.02225313149392605, 0.9916250109672546]"
      ]
     },
     "execution_count": 30,
     "metadata": {},
     "output_type": "execute_result"
    }
   ],
   "source": [
    "model3.evaluate(training_dataset)"
   ]
  },
  {
   "cell_type": "code",
   "execution_count": 39,
   "metadata": {},
   "outputs": [
    {
     "name": "stdout",
     "output_type": "stream",
     "text": [
      "Model: \"model_4\"\n",
      "_________________________________________________________________\n",
      "Layer (type)                 Output Shape              Param #   \n",
      "=================================================================\n",
      "input_5 (InputLayer)         [(None, 600, 600, 3)]     0         \n",
      "_________________________________________________________________\n",
      "conv2d_16 (Conv2D)           (None, 600, 600, 64)      1792      \n",
      "_________________________________________________________________\n",
      "leaky_re_lu_16 (LeakyReLU)   (None, 600, 600, 64)      0         \n",
      "_________________________________________________________________\n",
      "batch_normalization_4 (Batch (None, 600, 600, 64)      256       \n",
      "_________________________________________________________________\n",
      "max_pooling2d_16 (MaxPooling (None, 200, 200, 64)      0         \n",
      "_________________________________________________________________\n",
      "conv2d_17 (Conv2D)           (None, 200, 200, 128)     73856     \n",
      "_________________________________________________________________\n",
      "leaky_re_lu_17 (LeakyReLU)   (None, 200, 200, 128)     0         \n",
      "_________________________________________________________________\n",
      "batch_normalization_5 (Batch (None, 200, 200, 128)     512       \n",
      "_________________________________________________________________\n",
      "max_pooling2d_17 (MaxPooling (None, 66, 66, 128)       0         \n",
      "_________________________________________________________________\n",
      "conv2d_18 (Conv2D)           (None, 66, 66, 256)       295168    \n",
      "_________________________________________________________________\n",
      "leaky_re_lu_18 (LeakyReLU)   (None, 66, 66, 256)       0         \n",
      "_________________________________________________________________\n",
      "batch_normalization_6 (Batch (None, 66, 66, 256)       1024      \n",
      "_________________________________________________________________\n",
      "max_pooling2d_18 (MaxPooling (None, 22, 22, 256)       0         \n",
      "_________________________________________________________________\n",
      "conv2d_19 (Conv2D)           (None, 22, 22, 512)       1180160   \n",
      "_________________________________________________________________\n",
      "leaky_re_lu_19 (LeakyReLU)   (None, 22, 22, 512)       0         \n",
      "_________________________________________________________________\n",
      "batch_normalization_7 (Batch (None, 22, 22, 512)       2048      \n",
      "_________________________________________________________________\n",
      "max_pooling2d_19 (MaxPooling (None, 7, 7, 512)         0         \n",
      "_________________________________________________________________\n",
      "global_average_pooling2d_4 ( (None, 512)               0         \n",
      "_________________________________________________________________\n",
      "dense_12 (Dense)             (None, 100)               51300     \n",
      "_________________________________________________________________\n",
      "dense_13 (Dense)             (None, 100)               10100     \n",
      "_________________________________________________________________\n",
      "dense_14 (Dense)             (None, 2)                 202       \n",
      "=================================================================\n",
      "Total params: 1,616,418\n",
      "Trainable params: 1,614,498\n",
      "Non-trainable params: 1,920\n",
      "_________________________________________________________________\n"
     ]
    }
   ],
   "source": [
    "model4_input=keras.layers.Input(shape=[image_size[1],image_size[0],3])\n",
    "model4_block_1=keras.layers.Conv2D(64,3,padding='same')(model4_input)\n",
    "model4_block_1=tf.keras.layers.LeakyReLU()(model4_block_1)\n",
    "model4_block_1=tf.keras.layers.BatchNormalization()(model4_block_1)\n",
    "model4_block_1=keras.layers.MaxPool2D((3,3))(model4_block_1)\n",
    "\n",
    "model4_block_2=keras.layers.Conv2D(128,3,padding='same')(model4_block_1)\n",
    "model4_block_2=tf.keras.layers.LeakyReLU()(model4_block_2)\n",
    "model4_block_2=tf.keras.layers.BatchNormalization()(model4_block_2)\n",
    "model4_block_2=keras.layers.MaxPool2D((3,3))(model4_block_2)\n",
    "\n",
    "model4_block_3=keras.layers.Conv2D(256,3,padding='same')(model4_block_2)\n",
    "model4_block_3=tf.keras.layers.LeakyReLU()(model4_block_3)\n",
    "model4_block_3=tf.keras.layers.BatchNormalization()(model4_block_3)\n",
    "model4_block_3=keras.layers.MaxPool2D((3,3))(model4_block_3)\n",
    "\n",
    "model4_block_4=keras.layers.Conv2D(512,3,padding='same')(model4_block_3)\n",
    "model4_block_4=tf.keras.layers.LeakyReLU()(model4_block_4)\n",
    "model4_block_4=tf.keras.layers.BatchNormalization()(model4_block_4)\n",
    "model4_block_4=keras.layers.MaxPool2D((3,3))(model4_block_4)\n",
    "\n",
    "model4_global=keras.layers.GlobalAveragePooling2D()(model4_block_4)\n",
    "\n",
    "model4_fc=keras.layers.Dense(100)(model4_global)\n",
    "model4_fc=keras.layers.Dense(100)(model4_fc)\n",
    "model4_out=keras.layers.Dense(2,activation='softmax')(model4_fc)\n",
    "model4=tf.keras.Model(inputs=model4_input,outputs=model4_out)\n",
    "loss_fn = keras.losses.SparseCategoricalCrossentropy()\n",
    "model4.compile(loss=loss_fn, optimizer='adam', metrics=['accuracy'])\n",
    "# model.fit(training_dataset,epochs=10)\n",
    "model4.summary()"
   ]
  },
  {
   "cell_type": "code",
   "execution_count": 33,
   "metadata": {},
   "outputs": [
    {
     "name": "stdout",
     "output_type": "stream",
     "text": [
      "1000/1000 [==============================] - 116s 115ms/step - loss: 0.6932 - accuracy: 0.4970\n"
     ]
    },
    {
     "data": {
      "text/plain": [
       "[0.6931890249252319, 0.49287500977516174]"
      ]
     },
     "execution_count": 33,
     "metadata": {},
     "output_type": "execute_result"
    }
   ],
   "source": [
    "model4.evaluate(training_dataset)"
   ]
  },
  {
   "cell_type": "code",
   "execution_count": 34,
   "metadata": {},
   "outputs": [
    {
     "name": "stdout",
     "output_type": "stream",
     "text": [
      "Epoch 1/50\n",
      "1000/1000 [==============================] - 112s 112ms/step - loss: 0.6973 - accuracy: 0.5871\n",
      "Epoch 2/50\n",
      "1000/1000 [==============================] - 113s 113ms/step - loss: 0.6482 - accuracy: 0.6269\n",
      "Epoch 3/50\n",
      "1000/1000 [==============================] - 115s 114ms/step - loss: 0.6259 - accuracy: 0.6593\n",
      "Epoch 4/50\n",
      "1000/1000 [==============================] - 113s 113ms/step - loss: 0.5945 - accuracy: 0.6854\n",
      "Epoch 5/50\n",
      "1000/1000 [==============================] - 114s 114ms/step - loss: 0.5705 - accuracy: 0.7045\n",
      "Epoch 6/50\n",
      "1000/1000 [==============================] - 114s 114ms/step - loss: 0.5695 - accuracy: 0.7197\n",
      "Epoch 7/50\n",
      "1000/1000 [==============================] - 114s 114ms/step - loss: 0.5316 - accuracy: 0.7415\n",
      "Epoch 8/50\n",
      "1000/1000 [==============================] - 113s 113ms/step - loss: 0.5052 - accuracy: 0.7567\n",
      "Epoch 9/50\n",
      "1000/1000 [==============================] - 114s 114ms/step - loss: 0.4705 - accuracy: 0.7811\n",
      "Epoch 10/50\n",
      "1000/1000 [==============================] - 113s 113ms/step - loss: 0.4273 - accuracy: 0.8084\n",
      "Epoch 11/50\n",
      "1000/1000 [==============================] - 114s 114ms/step - loss: 0.3692 - accuracy: 0.8431\n",
      "Epoch 12/50\n",
      "1000/1000 [==============================] - 114s 113ms/step - loss: 0.3634 - accuracy: 0.8504\n",
      "Epoch 13/50\n",
      "1000/1000 [==============================] - 114s 114ms/step - loss: 0.3094 - accuracy: 0.8726 - loss: 0.3111 - \n",
      "Epoch 14/50\n",
      "1000/1000 [==============================] - 114s 114ms/step - loss: 0.2835 - accuracy: 0.8799\n",
      "Epoch 15/50\n",
      "1000/1000 [==============================] - 114s 114ms/step - loss: 0.2584 - accuracy: 0.8903\n",
      "Epoch 16/50\n",
      "1000/1000 [==============================] - 114s 114ms/step - loss: 0.2372 - accuracy: 0.8985\n",
      "Epoch 17/50\n",
      "1000/1000 [==============================] - 114s 114ms/step - loss: 0.2075 - accuracy: 0.9187\n",
      "Epoch 18/50\n",
      "1000/1000 [==============================] - 115s 115ms/step - loss: 0.1901 - accuracy: 0.9214\n",
      "Epoch 19/50\n",
      "1000/1000 [==============================] - 114s 114ms/step - loss: 0.1774 - accuracy: 0.9306\n",
      "Epoch 20/50\n",
      "1000/1000 [==============================] - 114s 114ms/step - loss: 0.1781 - accuracy: 0.9290\n",
      "Epoch 21/50\n",
      " 151/1000 [===>..........................] - ETA: 1:36 - loss: 0.1831 - accuracy: 0.9164"
     ]
    },
    {
     "ename": "KeyboardInterrupt",
     "evalue": "",
     "output_type": "error",
     "traceback": [
      "\u001b[0;31m---------------------------------------------------------------------------\u001b[0m",
      "\u001b[0;31mKeyboardInterrupt\u001b[0m                         Traceback (most recent call last)",
      "\u001b[0;32m<ipython-input-34-fc98e0550f85>\u001b[0m in \u001b[0;36m<module>\u001b[0;34m\u001b[0m\n\u001b[0;32m----> 1\u001b[0;31m \u001b[0mmodel4\u001b[0m\u001b[0;34m.\u001b[0m\u001b[0mfit\u001b[0m\u001b[0;34m(\u001b[0m\u001b[0mtraining_dataset\u001b[0m\u001b[0;34m,\u001b[0m\u001b[0mepochs\u001b[0m\u001b[0;34m=\u001b[0m\u001b[0;36m50\u001b[0m\u001b[0;34m)\u001b[0m\u001b[0;34m\u001b[0m\u001b[0;34m\u001b[0m\u001b[0m\n\u001b[0m",
      "\u001b[0;32m~/work/DuplicateImageDetector/venv/lib/python3.6/site-packages/tensorflow/python/keras/engine/training.py\u001b[0m in \u001b[0;36mfit\u001b[0;34m(self, x, y, batch_size, epochs, verbose, callbacks, validation_split, validation_data, shuffle, class_weight, sample_weight, initial_epoch, steps_per_epoch, validation_steps, validation_batch_size, validation_freq, max_queue_size, workers, use_multiprocessing)\u001b[0m\n\u001b[1;32m   1098\u001b[0m                 _r=1):\n\u001b[1;32m   1099\u001b[0m               \u001b[0mcallbacks\u001b[0m\u001b[0;34m.\u001b[0m\u001b[0mon_train_batch_begin\u001b[0m\u001b[0;34m(\u001b[0m\u001b[0mstep\u001b[0m\u001b[0;34m)\u001b[0m\u001b[0;34m\u001b[0m\u001b[0;34m\u001b[0m\u001b[0m\n\u001b[0;32m-> 1100\u001b[0;31m               \u001b[0mtmp_logs\u001b[0m \u001b[0;34m=\u001b[0m \u001b[0mself\u001b[0m\u001b[0;34m.\u001b[0m\u001b[0mtrain_function\u001b[0m\u001b[0;34m(\u001b[0m\u001b[0miterator\u001b[0m\u001b[0;34m)\u001b[0m\u001b[0;34m\u001b[0m\u001b[0;34m\u001b[0m\u001b[0m\n\u001b[0m\u001b[1;32m   1101\u001b[0m               \u001b[0;32mif\u001b[0m \u001b[0mdata_handler\u001b[0m\u001b[0;34m.\u001b[0m\u001b[0mshould_sync\u001b[0m\u001b[0;34m:\u001b[0m\u001b[0;34m\u001b[0m\u001b[0;34m\u001b[0m\u001b[0m\n\u001b[1;32m   1102\u001b[0m                 \u001b[0mcontext\u001b[0m\u001b[0;34m.\u001b[0m\u001b[0masync_wait\u001b[0m\u001b[0;34m(\u001b[0m\u001b[0;34m)\u001b[0m\u001b[0;34m\u001b[0m\u001b[0;34m\u001b[0m\u001b[0m\n",
      "\u001b[0;32m~/work/DuplicateImageDetector/venv/lib/python3.6/site-packages/tensorflow/python/eager/def_function.py\u001b[0m in \u001b[0;36m__call__\u001b[0;34m(self, *args, **kwds)\u001b[0m\n\u001b[1;32m    826\u001b[0m     \u001b[0mtracing_count\u001b[0m \u001b[0;34m=\u001b[0m \u001b[0mself\u001b[0m\u001b[0;34m.\u001b[0m\u001b[0mexperimental_get_tracing_count\u001b[0m\u001b[0;34m(\u001b[0m\u001b[0;34m)\u001b[0m\u001b[0;34m\u001b[0m\u001b[0;34m\u001b[0m\u001b[0m\n\u001b[1;32m    827\u001b[0m     \u001b[0;32mwith\u001b[0m \u001b[0mtrace\u001b[0m\u001b[0;34m.\u001b[0m\u001b[0mTrace\u001b[0m\u001b[0;34m(\u001b[0m\u001b[0mself\u001b[0m\u001b[0;34m.\u001b[0m\u001b[0m_name\u001b[0m\u001b[0;34m)\u001b[0m \u001b[0;32mas\u001b[0m \u001b[0mtm\u001b[0m\u001b[0;34m:\u001b[0m\u001b[0;34m\u001b[0m\u001b[0;34m\u001b[0m\u001b[0m\n\u001b[0;32m--> 828\u001b[0;31m       \u001b[0mresult\u001b[0m \u001b[0;34m=\u001b[0m \u001b[0mself\u001b[0m\u001b[0;34m.\u001b[0m\u001b[0m_call\u001b[0m\u001b[0;34m(\u001b[0m\u001b[0;34m*\u001b[0m\u001b[0margs\u001b[0m\u001b[0;34m,\u001b[0m \u001b[0;34m**\u001b[0m\u001b[0mkwds\u001b[0m\u001b[0;34m)\u001b[0m\u001b[0;34m\u001b[0m\u001b[0;34m\u001b[0m\u001b[0m\n\u001b[0m\u001b[1;32m    829\u001b[0m       \u001b[0mcompiler\u001b[0m \u001b[0;34m=\u001b[0m \u001b[0;34m\"xla\"\u001b[0m \u001b[0;32mif\u001b[0m \u001b[0mself\u001b[0m\u001b[0;34m.\u001b[0m\u001b[0m_experimental_compile\u001b[0m \u001b[0;32melse\u001b[0m \u001b[0;34m\"nonXla\"\u001b[0m\u001b[0;34m\u001b[0m\u001b[0;34m\u001b[0m\u001b[0m\n\u001b[1;32m    830\u001b[0m       \u001b[0mnew_tracing_count\u001b[0m \u001b[0;34m=\u001b[0m \u001b[0mself\u001b[0m\u001b[0;34m.\u001b[0m\u001b[0mexperimental_get_tracing_count\u001b[0m\u001b[0;34m(\u001b[0m\u001b[0;34m)\u001b[0m\u001b[0;34m\u001b[0m\u001b[0;34m\u001b[0m\u001b[0m\n",
      "\u001b[0;32m~/work/DuplicateImageDetector/venv/lib/python3.6/site-packages/tensorflow/python/eager/def_function.py\u001b[0m in \u001b[0;36m_call\u001b[0;34m(self, *args, **kwds)\u001b[0m\n\u001b[1;32m    853\u001b[0m       \u001b[0;31m# In this case we have created variables on the first call, so we run the\u001b[0m\u001b[0;34m\u001b[0m\u001b[0;34m\u001b[0m\u001b[0;34m\u001b[0m\u001b[0m\n\u001b[1;32m    854\u001b[0m       \u001b[0;31m# defunned version which is guaranteed to never create variables.\u001b[0m\u001b[0;34m\u001b[0m\u001b[0;34m\u001b[0m\u001b[0;34m\u001b[0m\u001b[0m\n\u001b[0;32m--> 855\u001b[0;31m       \u001b[0;32mreturn\u001b[0m \u001b[0mself\u001b[0m\u001b[0;34m.\u001b[0m\u001b[0m_stateless_fn\u001b[0m\u001b[0;34m(\u001b[0m\u001b[0;34m*\u001b[0m\u001b[0margs\u001b[0m\u001b[0;34m,\u001b[0m \u001b[0;34m**\u001b[0m\u001b[0mkwds\u001b[0m\u001b[0;34m)\u001b[0m  \u001b[0;31m# pylint: disable=not-callable\u001b[0m\u001b[0;34m\u001b[0m\u001b[0;34m\u001b[0m\u001b[0m\n\u001b[0m\u001b[1;32m    856\u001b[0m     \u001b[0;32melif\u001b[0m \u001b[0mself\u001b[0m\u001b[0;34m.\u001b[0m\u001b[0m_stateful_fn\u001b[0m \u001b[0;32mis\u001b[0m \u001b[0;32mnot\u001b[0m \u001b[0;32mNone\u001b[0m\u001b[0;34m:\u001b[0m\u001b[0;34m\u001b[0m\u001b[0;34m\u001b[0m\u001b[0m\n\u001b[1;32m    857\u001b[0m       \u001b[0;31m# Release the lock early so that multiple threads can perform the call\u001b[0m\u001b[0;34m\u001b[0m\u001b[0;34m\u001b[0m\u001b[0;34m\u001b[0m\u001b[0m\n",
      "\u001b[0;32m~/work/DuplicateImageDetector/venv/lib/python3.6/site-packages/tensorflow/python/eager/function.py\u001b[0m in \u001b[0;36m__call__\u001b[0;34m(self, *args, **kwargs)\u001b[0m\n\u001b[1;32m   2941\u001b[0m        filtered_flat_args) = self._maybe_define_function(args, kwargs)\n\u001b[1;32m   2942\u001b[0m     return graph_function._call_flat(\n\u001b[0;32m-> 2943\u001b[0;31m         filtered_flat_args, captured_inputs=graph_function.captured_inputs)  # pylint: disable=protected-access\n\u001b[0m\u001b[1;32m   2944\u001b[0m \u001b[0;34m\u001b[0m\u001b[0m\n\u001b[1;32m   2945\u001b[0m   \u001b[0;34m@\u001b[0m\u001b[0mproperty\u001b[0m\u001b[0;34m\u001b[0m\u001b[0;34m\u001b[0m\u001b[0m\n",
      "\u001b[0;32m~/work/DuplicateImageDetector/venv/lib/python3.6/site-packages/tensorflow/python/eager/function.py\u001b[0m in \u001b[0;36m_call_flat\u001b[0;34m(self, args, captured_inputs, cancellation_manager)\u001b[0m\n\u001b[1;32m   1917\u001b[0m       \u001b[0;31m# No tape is watching; skip to running the function.\u001b[0m\u001b[0;34m\u001b[0m\u001b[0;34m\u001b[0m\u001b[0;34m\u001b[0m\u001b[0m\n\u001b[1;32m   1918\u001b[0m       return self._build_call_outputs(self._inference_function.call(\n\u001b[0;32m-> 1919\u001b[0;31m           ctx, args, cancellation_manager=cancellation_manager))\n\u001b[0m\u001b[1;32m   1920\u001b[0m     forward_backward = self._select_forward_and_backward_functions(\n\u001b[1;32m   1921\u001b[0m         \u001b[0margs\u001b[0m\u001b[0;34m,\u001b[0m\u001b[0;34m\u001b[0m\u001b[0;34m\u001b[0m\u001b[0m\n",
      "\u001b[0;32m~/work/DuplicateImageDetector/venv/lib/python3.6/site-packages/tensorflow/python/eager/function.py\u001b[0m in \u001b[0;36mcall\u001b[0;34m(self, ctx, args, cancellation_manager)\u001b[0m\n\u001b[1;32m    558\u001b[0m               \u001b[0minputs\u001b[0m\u001b[0;34m=\u001b[0m\u001b[0margs\u001b[0m\u001b[0;34m,\u001b[0m\u001b[0;34m\u001b[0m\u001b[0;34m\u001b[0m\u001b[0m\n\u001b[1;32m    559\u001b[0m               \u001b[0mattrs\u001b[0m\u001b[0;34m=\u001b[0m\u001b[0mattrs\u001b[0m\u001b[0;34m,\u001b[0m\u001b[0;34m\u001b[0m\u001b[0;34m\u001b[0m\u001b[0m\n\u001b[0;32m--> 560\u001b[0;31m               ctx=ctx)\n\u001b[0m\u001b[1;32m    561\u001b[0m         \u001b[0;32melse\u001b[0m\u001b[0;34m:\u001b[0m\u001b[0;34m\u001b[0m\u001b[0;34m\u001b[0m\u001b[0m\n\u001b[1;32m    562\u001b[0m           outputs = execute.execute_with_cancellation(\n",
      "\u001b[0;32m~/work/DuplicateImageDetector/venv/lib/python3.6/site-packages/tensorflow/python/eager/execute.py\u001b[0m in \u001b[0;36mquick_execute\u001b[0;34m(op_name, num_outputs, inputs, attrs, ctx, name)\u001b[0m\n\u001b[1;32m     58\u001b[0m     \u001b[0mctx\u001b[0m\u001b[0;34m.\u001b[0m\u001b[0mensure_initialized\u001b[0m\u001b[0;34m(\u001b[0m\u001b[0;34m)\u001b[0m\u001b[0;34m\u001b[0m\u001b[0;34m\u001b[0m\u001b[0m\n\u001b[1;32m     59\u001b[0m     tensors = pywrap_tfe.TFE_Py_Execute(ctx._handle, device_name, op_name,\n\u001b[0;32m---> 60\u001b[0;31m                                         inputs, attrs, num_outputs)\n\u001b[0m\u001b[1;32m     61\u001b[0m   \u001b[0;32mexcept\u001b[0m \u001b[0mcore\u001b[0m\u001b[0;34m.\u001b[0m\u001b[0m_NotOkStatusException\u001b[0m \u001b[0;32mas\u001b[0m \u001b[0me\u001b[0m\u001b[0;34m:\u001b[0m\u001b[0;34m\u001b[0m\u001b[0;34m\u001b[0m\u001b[0m\n\u001b[1;32m     62\u001b[0m     \u001b[0;32mif\u001b[0m \u001b[0mname\u001b[0m \u001b[0;32mis\u001b[0m \u001b[0;32mnot\u001b[0m \u001b[0;32mNone\u001b[0m\u001b[0;34m:\u001b[0m\u001b[0;34m\u001b[0m\u001b[0;34m\u001b[0m\u001b[0m\n",
      "\u001b[0;31mKeyboardInterrupt\u001b[0m: "
     ]
    }
   ],
   "source": [
    "model4.fit(training_dataset,epochs=50)"
   ]
  },
  {
   "cell_type": "code",
   "execution_count": 35,
   "metadata": {},
   "outputs": [
    {
     "name": "stdout",
     "output_type": "stream",
     "text": [
      "250/250 [==============================] - 29s 115ms/step - loss: 1.0777 - accuracy: 0.6940\n"
     ]
    },
    {
     "data": {
      "text/plain": [
       "[1.0776797533035278, 0.6940000057220459]"
      ]
     },
     "execution_count": 35,
     "metadata": {},
     "output_type": "execute_result"
    }
   ],
   "source": [
    "model4.evaluate(test_dataset)"
   ]
  },
  {
   "cell_type": "code",
   "execution_count": 36,
   "metadata": {},
   "outputs": [
    {
     "name": "stdout",
     "output_type": "stream",
     "text": [
      "INFO:tensorflow:Assets written to: model4/assets\n"
     ]
    }
   ],
   "source": [
    "# model4.save('model4')"
   ]
  },
  {
   "cell_type": "code",
   "execution_count": 40,
   "metadata": {},
   "outputs": [
    {
     "name": "stdout",
     "output_type": "stream",
     "text": [
      "The tensorboard extension is already loaded. To reload it, use:\n",
      "  %reload_ext tensorboard\n"
     ]
    }
   ],
   "source": [
    "%load_ext tensorboard"
   ]
  },
  {
   "cell_type": "code",
   "execution_count": null,
   "metadata": {},
   "outputs": [
    {
     "name": "stdout",
     "output_type": "stream",
     "text": [
      "Epoch 1/50\n",
      "1000/1000 [==============================] - 119s 119ms/step - loss: 0.5445 - accuracy: 0.7268\n",
      "Epoch 2/50\n",
      "1000/1000 [==============================] - 119s 119ms/step - loss: 0.5222 - accuracy: 0.7473\n",
      "Epoch 3/50\n",
      "1000/1000 [==============================] - 119s 119ms/step - loss: 0.4806 - accuracy: 0.7742\n",
      "Epoch 4/50\n",
      "1000/1000 [==============================] - 119s 119ms/step - loss: 0.4608 - accuracy: 0.7857\n",
      "Epoch 5/50\n",
      "1000/1000 [==============================] - 122s 122ms/step - loss: 0.4262 - accuracy: 0.8120\n",
      "Epoch 6/50\n",
      "1000/1000 [==============================] - 120s 120ms/step - loss: 0.3683 - accuracy: 0.8374\n",
      "Epoch 7/50\n",
      "1000/1000 [==============================] - 119s 119ms/step - loss: 0.3593 - accuracy: 0.8434\n",
      "Epoch 8/50\n",
      "1000/1000 [==============================] - 119s 119ms/step - loss: 0.3205 - accuracy: 0.8622\n",
      "Epoch 9/50\n",
      "1000/1000 [==============================] - 123s 123ms/step - loss: 0.2679 - accuracy: 0.8844\n",
      "Epoch 11/50\n",
      "1000/1000 [==============================] - 125s 125ms/step - loss: 0.2539 - accuracy: 0.8938\n",
      "Epoch 12/50\n",
      " 589/1000 [================>.............] - ETA: 50s - loss: 0.2302 - accuracy: 0.9024"
     ]
    }
   ],
   "source": [
    "import datetime\n",
    "log_dir = \"logs/fit/\" + datetime.datetime.now().strftime(\"%Y%m%d-%H%M%S\")\n",
    "tensorboard_callback = tf.keras.callbacks.TensorBoard(log_dir=log_dir, histogram_freq=1,profile_batch = '0,10')\n",
    "model4.fit(training_dataset,epochs=50,callbacks=[tensorboard_callback])"
   ]
  }
 ],
 "metadata": {
  "kernelspec": {
   "display_name": "Python 3",
   "language": "python",
   "name": "python3"
  },
  "language_info": {
   "codemirror_mode": {
    "name": "ipython",
    "version": 3
   },
   "file_extension": ".py",
   "mimetype": "text/x-python",
   "name": "python",
   "nbconvert_exporter": "python",
   "pygments_lexer": "ipython3",
   "version": "3.6.9"
  }
 },
 "nbformat": 4,
 "nbformat_minor": 4
}
